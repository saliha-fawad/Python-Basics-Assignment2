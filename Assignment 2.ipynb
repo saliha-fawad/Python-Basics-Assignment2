{
 "cells": [
  {
   "cell_type": "markdown",
   "metadata": {},
   "source": [
    "Assignment no.2\n",
    "\n",
    "\n"
   ]
  },
  {
   "cell_type": "markdown",
   "metadata": {},
   "source": [
    "Task no.1\n",
    "Question 01: Write a for loop that calculates the sum of numbers from 1 to 10.\n",
    "Question 02: Print the items of the list [“Python”, “Numpy”, “Pandas”] in reverse order\n",
    "using a for loop."
   ]
  },
  {
   "cell_type": "code",
   "execution_count": 1,
   "metadata": {},
   "outputs": [
    {
     "name": "stdout",
     "output_type": "stream",
     "text": [
      "The sum of numbers from 1 to 10 is: 55\n"
     ]
    }
   ],
   "source": [
    "#01\n",
    "sum = 0\n",
    "for j in range(1, 11):\n",
    "    sum += j\n",
    "\n",
    "print(\"The sum of numbers from 1 to 10 is:\", sum)"
   ]
  },
  {
   "cell_type": "code",
   "execution_count": 2,
   "metadata": {},
   "outputs": [
    {
     "name": "stdout",
     "output_type": "stream",
     "text": [
      "Pandas\n",
      "Numpy\n",
      "Python\n"
     ]
    }
   ],
   "source": [
    "#02\n",
    "items_list = [\"Python\", \"Numpy\", \"Pandas\"]\n",
    "\n",
    "for k in range(len(items_list)-1, -1, -1):\n",
    "    print(items_list[k])"
   ]
  },
  {
   "cell_type": "markdown",
   "metadata": {},
   "source": [
    "Task no.2\n",
    "Question 01: Implement a guessing game with a while loop where the user\n",
    "has to guess a set number (e.g., 3). The loop terminates once the user\n",
    "guesses correctly.\n",
    "Question 02: Write a while loop that asks for user input and adds it to a list.\n",
    "Exit the loop when the user types \"done\"."
   ]
  },
  {
   "cell_type": "code",
   "execution_count": 5,
   "metadata": {},
   "outputs": [],
   "source": [
    "#01\n",
    "number_to_guess = 3\n",
    "\n",
    "#input\n",
    "start_game = input(\"Welcome to the guessing game! Type 'start' to begin: \")\n",
    "\n",
    "if start_game.lower() == 'start':\n",
    "    # Initialize the guess\n",
    "    user_guess = None\n",
    "    attempts = 0\n",
    "    max_attempts = 3\n",
    "\n",
    "    # Game loop\n",
    "    while user_guess== number_to_guess and attempts < max_attempts:\n",
    "        user_guess = int(input(\"Guess the number: \"))\n",
    "        attempts += 1\n",
    "\n",
    "        if user_guess < number_to_guess:\n",
    "            print(\"Too low! Try again.\")\n",
    "            \n",
    "        elif user_guess > number_to_guess:\n",
    "            print(\"Too high! Try again.\")\n",
    "            break\n",
    "        else:\n",
    "            print(\"Congratulations!\", attempts, \"attempts.\")\n",
    "            break\n",
    "            \n",
    "        if user_guess != number_to_guess:\n",
    "         print(\"Sorry, you've used all your attempts. The number was\", number_to_guess)\n",
    "        break\n",
    "\n",
    "    \n",
    "\n"
   ]
  },
  {
   "cell_type": "code",
   "execution_count": 7,
   "metadata": {},
   "outputs": [
    {
     "name": "stdout",
     "output_type": "stream",
     "text": [
      "customer inputs: ['10', '20', '25', '11', '5', '17', '14']\n"
     ]
    }
   ],
   "source": [
    "#02\n",
    "\n",
    "customer_inputs = []\n",
    "\n",
    "while True:\n",
    "    customer_input = input(\"Enter a value (type 'done' to exit): \")\n",
    "    if customer_input.lower() == \"done\":\n",
    "        break\n",
    "    else:\n",
    "        customer_inputs.append(customer_input)\n",
    "\n",
    "print(\"customer inputs:\", customer_inputs)\n"
   ]
  },
  {
   "cell_type": "markdown",
   "metadata": {},
   "source": [
    "Task no.3\n",
    "Question 01: Write a function that prints all even numbers between 1 and 20. Question\n",
    "02: Write a function that takes a list and a number as arguments and returns.\n",
    "Question 03: Write a function calculator that takes three arguments: two numbers and an\n",
    "operation (as a string, e.g., \"add\", \"subtract\", \"multiply\", \"divide\") and returns the result\n",
    "of the operation.\n",
    "Question 04: Write a function that takes a list of numbers and returns the maximum\n",
    "number in the list?\n",
    "Question 05: Create a lambda function that takes two numbers and returns their product.\n",
    "Question 06: Write a function that takes a list and returns a new list containing only the even numbers from the original list."
   ]
  },
  {
   "cell_type": "code",
   "execution_count": 1,
   "metadata": {},
   "outputs": [
    {
     "name": "stdout",
     "output_type": "stream",
     "text": [
      "2\n",
      "4\n",
      "6\n",
      "8\n",
      "10\n",
      "12\n",
      "14\n",
      "16\n",
      "18\n",
      "20\n"
     ]
    }
   ],
   "source": [
    "#01\n",
    "def print_even_numbers():\n",
    "    for num in range(1, 21):\n",
    "        if num % 2 == 0:\n",
    "            print(num)\n",
    "\n",
    "print_even_numbers()\n"
   ]
  },
  {
   "cell_type": "code",
   "execution_count": 2,
   "metadata": {},
   "outputs": [
    {
     "name": "stdout",
     "output_type": "stream",
     "text": [
      "[14, 15, 16]\n"
     ]
    }
   ],
   "source": [
    "#02\n",
    "def list(digits, s):\n",
    "    list = [num for num in digits if num > s]\n",
    "    return list\n",
    "\n",
    "digits = [10, 11, 12, 13, 14,15,16]\n",
    "s = 13\n",
    "digits = list(digits, s)\n",
    "print(digits)  \n"
   ]
  },
  {
   "cell_type": "code",
   "execution_count": 7,
   "metadata": {},
   "outputs": [
    {
     "name": "stdout",
     "output_type": "stream",
     "text": [
      "15\n",
      "72\n"
     ]
    }
   ],
   "source": [
    "#03\n",
    "def calculator(n1, n2, operation):\n",
    "    if operation == \"sum\":\n",
    "        return n1 + n2\n",
    "    elif operation == \"minus\":\n",
    "        return n1 - n2\n",
    "    elif operation == \"product\":\n",
    "        return n1 * n2\n",
    "    elif operation == \"divide\":\n",
    "        if n2 == 0:\n",
    "            return \"Error: Cannot divide by zero!\"\n",
    "        return n1 / n2\n",
    "    else:\n",
    "        return \"Invalid operation\"\n",
    "\n",
    "\n",
    "result = calculator(10, 5, \"sum\")\n",
    "print(result)  # Output: 15\n",
    "result2 = calculator(2,36,\"product\")\n",
    "print(result2) # output:72\n"
   ]
  },
  {
   "cell_type": "code",
   "execution_count": 8,
   "metadata": {},
   "outputs": [
    {
     "name": "stdout",
     "output_type": "stream",
     "text": [
      "11\n"
     ]
    }
   ],
   "source": [
    "#04\n",
    "def search_max(n):\n",
    "    return max(n)\n",
    "n = [2, 8, 1, 11, 3,10]\n",
    "conclusion = search_max(n)\n",
    "print(conclusion)  "
   ]
  },
  {
   "cell_type": "code",
   "execution_count": 9,
   "metadata": {},
   "outputs": [
    {
     "name": "stdout",
     "output_type": "stream",
     "text": [
      "144\n"
     ]
    }
   ],
   "source": [
    "#05\n",
    "product = lambda s, f: s * f\n",
    "\n",
    "print(product(8, 18)) \n"
   ]
  },
  {
   "cell_type": "code",
   "execution_count": 10,
   "metadata": {},
   "outputs": [
    {
     "name": "stdout",
     "output_type": "stream",
     "text": [
      "[2, 4, 6, 8, 10, 26, 28, 14, 42]\n"
     ]
    }
   ],
   "source": [
    "#06\n",
    "def sort_even_numbers(input_list):\n",
    "    even_numbers = [num for num in input_list if num % 2 == 0]\n",
    "    return even_numbers\n",
    "\n",
    "formal_list = [1, 2, 3, 4, 5, 6, 7, 8, 9, 10,21,26,28,33,11,13,14,42,43]\n",
    "fresh_even_numbers_list = sort_even_numbers(formal_list)\n",
    "print(fresh_even_numbers_list)  "
   ]
  }
 ],
 "metadata": {
  "kernelspec": {
   "display_name": "Python 3",
   "language": "python",
   "name": "python3"
  },
  "language_info": {
   "codemirror_mode": {
    "name": "ipython",
    "version": 3
   },
   "file_extension": ".py",
   "mimetype": "text/x-python",
   "name": "python",
   "nbconvert_exporter": "python",
   "pygments_lexer": "ipython3",
   "version": "3.11.9"
  }
 },
 "nbformat": 4,
 "nbformat_minor": 2
}
